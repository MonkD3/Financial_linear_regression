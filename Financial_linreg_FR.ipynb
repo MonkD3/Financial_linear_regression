{
  "nbformat": 4,
  "nbformat_minor": 0,
  "metadata": {
    "colab": {
      "name": "Financial_linreg_FR.ipynb",
      "provenance": [],
      "private_outputs": true,
      "collapsed_sections": []
    },
    "kernelspec": {
      "name": "python3",
      "display_name": "Python 3"
    }
  },
  "cells": [
    {
      "cell_type": "markdown",
      "metadata": {
        "id": "UZhJJPLB5-Ng"
      },
      "source": [
        "# 0. Structure du NoteBook :\n",
        "\n",
        "## 0.1. Intro :\n",
        "Ce NoteBook Python est dédié au développement d'une stratégie de \"trading algorithmique\". Il alternera cellule de texte expliquant l'utilité/le fonctionnement des cellules de code. Son but final sera d'être une stratégie rentable, et donc déployable avec de l'argent réel.\n",
        "\n",
        "## 0.2. Structure :\n",
        "Ce notebook sera divisé en plusieurs parties :\n",
        "\n",
        "1. Le commencement de tout programme : Importation de librairies, acquisition des données etc.\n",
        "2. Le calcul d'une série d'indicateurs boursiers, nous permettant d'obtenir des informations grâce à l'analyse technique.\n",
        "3. La création de l'algorithme de régression\n",
        "4. La création de données tests\n",
        "5. Les backtests de la stratégie, qui quant à eux nous permettrons finalement de tester les performances de celle-ci.\n",
        "\n",
        "## 0.3 : Termes utilisés :\n",
        "\n",
        "Note : L'ensemble des termes boursiers utilisés / indicateurs calculés peuvent être retrouvées sur ce site : https://www.investopedia.com/ .\n",
        "\n",
        "* Tendance haussière / bullish trend : Lorsque les prix sont en augmentation sur une certaine période.\n",
        "* Tendance baissière / bearish trend : Lorsque les prix sont en baisse sur une certaine période.\n",
        "* Point d'entrée / entry point, aussi appelé ouverture de position : Fait d'acheter une action.\n",
        "* Point de sortie / exit point, aussi appelé fermeture de position : Fait de vendre une action.\n",
        "* Avoir une position sur une action : Fait de posséder cette action (et donc d'avoir la possibilité de la vendre).\n",
        "* Volatilité : Ampleur des variations de cours que subis une action. Au plus elle est élevée, au plus les possibilité de rendement/perte sont grandes. Permet de quantifier le risque d'une action à un moment donné. Attention, on dit d'un indicateur financier qu'il est \"réactif\" lorsqu'il est sensible aux variations de cours.\n",
        "* Marché suracheté/survendu (overbought/oversold) : Lorsque beaucoup d'investisseurs achètent/vendent une action, on dit que cette action est surachetée/survendue et son prix à tendance à augmenter/diminuer.\n",
        "* EURONEXT : Principal marché boursier en Europe\n",
        "* Données OHLCVT : Ensemble de certaines données d'un cours sur un intervalle donné. O = Open, prix à l'ouverture de l'intervalle ; H = High, prix le plus haut sur l'intervalle ; L = Low, prix le plus faible sur l'intervalle ; C = Close, prix à la fermeture de l'intervalle ; V = Volume, volume échangé ; T = Turnover."
      ]
    },
    {
      "cell_type": "markdown",
      "metadata": {
        "id": "Ew85ZqmjIqgy"
      },
      "source": [
        "# 1. Getting started :\n",
        "\n",
        "## 1.1. Importing libraries :\n",
        "On commence par importer toutes les librairies que nous utiliserons durant le programme.\n",
        "\n",
        "*   pandas et pandas_datareader pour pouvoir créer des DataFrame qui nous permettront de calculer de manières très efficaces tous nos indicateurs.\n",
        "*   datetime qui nous permettra de stipuler les dates de début et de fin de période, nous permettant de choisir les données utilisées.\n",
        "*   numpy pour certains calculs mathématiques.\n",
        "*   time qui nous permettra de timer nos fonctions, afin de déterminer leur effcacités.\n",
        "*   matplotlib et matplotlib.pyplot pour effectuer certains plot de graphiques, même si ceux effectués à travers pandas sont plus que bons.\n",
        "*   On set up les valeurs par défaut de certains paramètres des graphiques. (taille et grille)"
      ]
    },
    {
      "cell_type": "code",
      "metadata": {
        "id": "CnBkjs_bjZ3n"
      },
      "source": [
        "# Importing libraries\n",
        "%matplotlib inline \n",
        "import pandas as pd\n",
        "import pandas_datareader as pdr\n",
        "import datetime as dt\n",
        "import numpy as np\n",
        "import matplotlib as mpl\n",
        "import matplotlib.pyplot as plt\n",
        "import tensorflow as tf\n",
        "\n",
        "mpl.rcParams['figure.figsize'] = (12, 9)\n",
        "mpl.rcParams['axes.grid'] = True"
      ],
      "execution_count": null,
      "outputs": []
    },
    {
      "cell_type": "markdown",
      "metadata": {
        "id": "AnjCqioPF_AN"
      },
      "source": [
        "## 1.3. Mining Data :\n",
        "On sait que pour notre programme, nous avons besoins de données financières/boursières. Pour les obtenir, nous utiliserons les données fournies par le site \"Quandl\" (src = https://www.quandl.com/ ) car les données des entreprises appartenant à l'EURONEXT sont gratuites sur ce site, et je suis fort susceptible de n'utiliser que ces données.\n",
        "\n",
        "---\n",
        "\n",
        "Note : Pour utiliser les dernières données disponible sur le site de Quandl, il faut posséder une clé de leur API, qui s'obtient en créant un compte gratuit. Ceux qui possèdent un compte peuvent indiquer leur clé dans la cellule ci-dessous pour utiliser les dernières données disponible. Pour ceux qui n'en possède pas, un fichier échantillon sera utilisé. Ce fichier reprend les données OHLCVT de l'action INGA depuis le 2 janvier 2019 jusqu'au 8 juillet 2020 en prenant les valeurs jour pas jour."
      ]
    },
    {
      "cell_type": "code",
      "metadata": {
        "id": "IP_Xqy737BOW"
      },
      "source": [
        "# Data Mining\n",
        "\n",
        "# Tickers\n",
        "symbols = [\"EURONEXT/INGA\", \"EURONEXT/PROX\", \"EURONEXT/SOLB\"]\n",
        "\n",
        "# Interval of time needed :\n",
        "from_date = dt.date(2019,1,1)\n",
        "to_date = dt.date(2020,1,1)\n",
        "\n",
        "# Quandl API key if provided or data sample if not :\n",
        "quandl_key = None\n",
        "sample_url = {\"EURONEXT/INGA\" : \"https://raw.githubusercontent.com/MonkD3/L-ambition/master/Sample_data/EURONEXT-INGA.csv\",\n",
        "              \"EURONEXT/PROX\" : \"https://raw.githubusercontent.com/MonkD3/L-ambition/master/Sample_data/EURONEXT-PROX.csv\",\n",
        "              \"EURONEXT/SOLB\" : \"https://raw.githubusercontent.com/MonkD3/L-ambition/master/Sample_data/EURONEXT-SOLB.csv\"\n",
        "              }\n",
        "\n",
        "# Creating a data_mining() function, returning a dict with DataFrames\n",
        "def data_mining(symbols, from_date, to_date = dt.datetime.now(), quandl_key = None):\n",
        "  dic = {}\n",
        "  for symbol in symbols :\n",
        "    if quandl_key is not None :\n",
        "      dic[symbol] = np.round(pd.DataFrame(pdr.quandl.QuandlReader(symbol, from_date, to_date, api_key=quandl_key).read()).iloc[::-1],2)\n",
        "    else :\n",
        "      global sample_url\n",
        "      dic[symbol] = np.round(pd.read_csv(sample_url[symbol], index_col=\"Date\", parse_dates=True)[from_date:to_date:-1],2)\n",
        "  return dic\n",
        "\n",
        "dic = data_mining(symbols, from_date, to_date)\n",
        "\n",
        "# Choose wich ticker you want to analyse in the next cells\n",
        "ticker = \"EURONEXT/INGA\"\n",
        "df = dic[ticker]\n",
        "close = df[\"Last\"]\n",
        "close.plot(label = \"Close\")\n",
        "plt.legend()"
      ],
      "execution_count": null,
      "outputs": []
    },
    {
      "cell_type": "markdown",
      "metadata": {
        "id": "cbm3rTcRUhde"
      },
      "source": [
        "## 1.4. Defining functions that determine where lines crosses each other :\n",
        "\n",
        "Nous allons finalement programmer une fonction capable de déterminer quand est ce qu'une courbe passe au dessus d'une autre : crossover(), et une autre capable de déterminer quand est ce qu'une courbe passe en dessous d'une autre : crossunder().\n",
        "Ceci nous permettra généralement de pouvoir déterminer les points d'entrées et points de sortie d'un marché."
      ]
    },
    {
      "cell_type": "code",
      "metadata": {
        "id": "Fn5czZuJVW2e"
      },
      "source": [
        "# crossover() function :\n",
        "\n",
        "def crossover_points(curve1, curve2):\n",
        "  \"\"\" Determine where curve1 crosses over curve2.\n",
        "      curve1 and curve2 are DataFrame objects or Series objects\n",
        "  \"\"\"\n",
        "  differ = curve1 - curve2\n",
        "  signe = differ.apply(np.sign)\n",
        "  croisement = signe.diff()\n",
        "  crossover_index = croisement.index[croisement > 0].tolist()\n",
        "  return crossover_index\n",
        "\n",
        "def crossover(curve1, curve2):\n",
        "\n",
        "  val1 = float(curve1[-1])\n",
        "  val2 = float(curve2[-1])\n",
        "\n",
        "  if val1 > val2 :\n",
        "    return True\n",
        "  \n",
        "  else :\n",
        "    return False\n",
        "\n",
        "def crossunder(curve1, curve2):\n",
        "  val1 = float(curve1[-1])\n",
        "  val2 = float(curve2[-1])\n",
        "\n",
        "  if val1 < val2 :\n",
        "    return True\n",
        "  \n",
        "  else :\n",
        "    return False\n",
        "\n",
        "# crossunder() function :\n",
        "def crossunder_points(curve1, curve2):\n",
        "  \"\"\" Determine where curve1 crosses under curve2.\n",
        "      curve1 and curve2 are DataFrame objects or Series objects\n",
        "  \"\"\"\n",
        "  differ = curve1 - curve2\n",
        "  signe = differ.apply(np.sign)\n",
        "  croisement = signe.diff()\n",
        "  crossunder_index = croisement.index[croisement < 0].tolist()\n",
        "  return crossunder_index"
      ],
      "execution_count": null,
      "outputs": []
    },
    {
      "cell_type": "markdown",
      "metadata": {
        "id": "gKf3d-yfLYiI"
      },
      "source": [
        "# 2. Starting computation of indicators :\n",
        "Pour plus de clarté, nous utiliserons le terme \"intervalle\" pour UNE donnée (un intervalle pouvant être un jour, une heure ou même une seconde suivant la vitesse à laquelle on effectue le trading), et le terme \"période\" pour déterminer plusieurs intervalles, typiquement la durée entre 2 jours appartenant à des mois différents. En effet le terme intervalle sera utilisé pour déterminer le temps entre deux prises de mesures, alors que le terme période sera utilisé pour déterminer un nombre d'intervalles.\n",
        "## 2.1. SMA indicator :\n",
        "### 2.1.1. What is it ? :\n",
        "L'indicateur SMA (simple moving average, moyenne arithmétique mobile si traduit littéralement) permet de lisser les données. En supposant que les données reçues suivent une distribution normale (gaussienne) cet indicateur nous permet d'obtenir une moyenne de la valeur des n dernières intervalles ne réagissant pas à la volatilité sur la période. Ceci deviendra plus clair lors de la lecture de l'indicateur \"Bande de Bollinger\".\n",
        "### 2.1.2. Computation of the SMA :\n",
        "Le calcul est assez simple, pour calculer la moyenne mobile simple sur n intervalles et à la position i, il suffit de calculer la moyenne arithmétique des i-n-1 dernières données.\n",
        "$$SMA_i = \\frac{\\sum_{i-n-1}^{i}Prix_i}{n} $$\n",
        "\n",
        "### 2.1.3 : What it's used for ? :\n",
        "Cet indicateur est utile pour déterminer les variations de valeur à court terme. En effet, nous pouvons déduire logiquement que les moyennes mobiles simples (SMA) sur des périodes longues (nombreux intervalles), seront beaucoup moins réactives que les SMA sur des périodes courtes. De ce fait, lorsque les SMA \"courtes\" passent au dessus des SMAS \"longues\", nous pourrons en déduire que la valeur de l'action augmentera à court terme. Habituellement les périodes utilisées pour cet indicateurs sont de 20 intervalles pour les \"courtes\" et 50 intervalles pour les \"longues\"."
      ]
    },
    {
      "cell_type": "code",
      "metadata": {
        "id": "Iw1GATaA67uN"
      },
      "source": [
        "# SMA indicators :\n",
        "\n",
        "# Standard Time period SMAs\n",
        "smas = [3,5,7,9,11,12,13,15,20,25,26,30,35,40,45,50,60,70,80,90,100]\n",
        "\n",
        "def SMA_indicator(df, smas):\n",
        "  close = df[\"Last\"]\n",
        "  for sma in smas :\n",
        "    # Error handling, in case ther's missing data : print an error message\n",
        "    try :\n",
        "      # Giving a column name in the DataFrame\n",
        "      column_name = \"Sma_{}\".format(sma)\n",
        "      #\n",
        "      # Initiating sma Computation\n",
        "      #\n",
        "      df[column_name] = round(close.rolling(sma).mean(), 2)\n",
        "      #\n",
        "      # Finishing sma conputation\n",
        "      #\n",
        "    except :\n",
        "      print(\"An error has occured during the computation of SMA_{}\".format(sma))\n",
        "      \n",
        "# Executing with default values :\n",
        "SMA_indicator(df, smas)\n",
        "\n",
        "# Plotting Sma_50, Sma_20 and close value :\n",
        "df[\"Sma_50\"].plot(label = \"Sma_50\")\n",
        "df[\"Sma_20\"].plot(label = \"Sma_20\")\n",
        "close.plot(label = \"Close\")\n",
        "\n",
        "# Plotting entry and exit points :\n",
        "entry_points = crossover_points(df[\"Sma_20\"], df[\"Sma_50\"])\n",
        "exit_points = crossunder_points(df[\"Sma_20\"], df[\"Sma_50\"])\n",
        "plt.scatter(entry_points, df[\"Sma_20\"][entry_points], label = \"Buy-signal\")\n",
        "plt.scatter(exit_points, df[\"Sma_20\"][exit_points], label = \"Sell-signal\")\n",
        "\n",
        "plt.legend()\n",
        "\n",
        "# Note : You can plot whatever sma you want, feel free to play with it."
      ],
      "execution_count": null,
      "outputs": []
    },
    {
      "cell_type": "markdown",
      "metadata": {
        "id": "4cY_madtjP2G"
      },
      "source": [
        "## 2.2. EMA indicator :\n",
        "### 2.2.1. What is it ? :\n",
        "L'indicateur EMA (exponential moving average) est assez similaire aux SMA, à l'exception que ceux-ci sont beaucoup plus réactifs aux dernières données. En effet dans les SMA, nous donnons exactement le même poids à chaque valeur d'une période. Le calcul d'une EMA nous permet en fait de donner un poids plus élevé aux dernières valeurs dans le temps (C'est une sorte de somme pondérée).\n",
        "### 2.2.2. Computation of the EMA :\n",
        "Avant de commencer le calcul, il faut déterminer le poids k que nous allons utiliser, celui-ci ne dépend que du nombre d'intervalles choisis N et peut donc être calculé avant le reste.\n",
        "$$k = \\frac{2}{N + 1}$$\n",
        "Ensuite, l'EMA à l'indice i peut être calculé récursivement comme :\n",
        "$$ EMA_i = Prix_i * k + EMA_{i-1}*(1-k)$$\n",
        "### 2.2.3. What it's used fort :\n",
        "Les EMA sont utilisés exactement de la même manières que les SMA, sauf que comme ceux-ci \"laggent\" moins (ils sont plus réactifs aux variations des derniers intervalles) ils sont plus susceptibles de prédire la variation de tendance à court terme que les SMA. \n",
        "Un exemple d'utilisation pourrait être d'anticiper une variation de tendance auux moyen d'EMA, et de confirmer ou infirmer celle_ci avec les SMA. Vu qu'ils sont plus réactifs, ils donneront plus souvent de faux-positifs, pouvant résulter en des pertes. Il faut également faire attention à leur utilisation en cas de période de forte volatilité (pour les mêmes raisons que ci-dessus)."
      ]
    },
    {
      "cell_type": "code",
      "metadata": {
        "id": "bkAL-r-o8o7P"
      },
      "source": [
        "# EMA indicators :\n",
        "\n",
        "# Standard Time period EMAs\n",
        "emas = [3,5,7,9,11,12,13,15,20,25,26,30,35,40,45,50,60,70,80,90,100]\n",
        "\n",
        "def EMA_indicator(df, emas):\n",
        "  close = df[\"Last\"]\n",
        "  for ema in emas :\n",
        "    # Error handling\n",
        "    try :\n",
        "      # Ginving a column name for the DataFrame\n",
        "      column_name = \"Ema_{}\".format(ema)\n",
        "      #\n",
        "      # Initiating ema Computation\n",
        "      #\n",
        "      df[column_name] = round(close.ewm(span = ema, adjust = False).mean(),2)\n",
        "      #\n",
        "      # Finishing ema conputation\n",
        "      #\n",
        "    except :\n",
        "      print(\"An error has occured during the computation of EMA_{}\".format(ema))\n",
        "\n",
        "# Executing with default values : \n",
        "EMA_indicator(df, emas)\n",
        "\n",
        "# Plotting Ema_20 and Ema_7 :\n",
        "df[\"Ema_20\"].plot(label = \"Ema_20\")\n",
        "df[\"Ema_7\"].plot(label = \"Ema_7\")\n",
        "close.plot(label = \"Close\")\n",
        "\n",
        "# Plotting entry and exit points :\n",
        "entry_points = crossover_points(df[\"Ema_7\"], df[\"Ema_20\"])\n",
        "exit_points = crossunder_points(df[\"Ema_7\"], df[\"Ema_20\"])\n",
        "plt.scatter(entry_points, df[\"Ema_7\"][entry_points], label = \"Buy-signal\")\n",
        "plt.scatter(exit_points, df[\"Ema_7\"][exit_points], label = \"Sell-signal\")\n",
        "\n",
        "plt.legend()\n",
        "plt.legend()"
      ],
      "execution_count": null,
      "outputs": []
    },
    {
      "cell_type": "markdown",
      "metadata": {
        "id": "f4n7PPSfDn_K"
      },
      "source": [
        "## 2.3. MACD indicator :\n",
        "### 2.3.1. What is it ? :\n",
        "L'indicateur MACD (Moving Average Convergence Divergence) est une combinaisons de certaines EMA. Il contient 3 courbes :\n",
        "* Une \"zero-line\" ou \"baseline\" qui comme son nom l'indique est une droite d'équation $y = 0$\n",
        "* Une \"MACD-line\" qui sera une combinaison de 2 EMA de période différentes (mais plus longue que la période de la signal-line).\n",
        "* Une \"signal-line\" qui sera composée de l'EMA de la MACD-line sur une courte période. Cet indicateur permet de déterminer des points d'entrée et des points de sortie du marché.\n",
        "\n",
        "Note : La MACD-line est parfois représentée comme un histogramme, représentant plus clairement les points d'entrées et les points de sortie.\n",
        "\n",
        "### 2.3.2. Computation of the MACD :\n",
        "La première étape est de choisir ses 3 périodes d'EMA. Les périodes standard utilisées sont 9 pour la signal line, 12 et 26 pour la MACD-line.\n",
        "Le calcul de l'indicateur est ensuite plutôt simple :\n",
        "$$MACD = EMA^{12}(Prix) - EMA^{26}(Prix) \\\\ Signal = EMA^{9}(MACD)$$\n",
        "\n",
        "Il suffit en fait de construire la MACD-line sur deux EMA en soustrayant l'EMA de longue période à celle de période moyenne, et de prendre ensuite l'EMA de la MACD line sur la période souhaitée.\n",
        "### 2.3.3. What it's used for ? :\n",
        "Comme écrit précédemment, son utilité réside dans le fait de pouvoir déterminer des périodes d'entrée et de sortie. Lorsque la MACD-line passe au dessus de la signal-line, on appelle ça un signal d'entrée et lorsqu'elle passe en dessous, un signal de sortie. Il permet également de déterminer la \"force\" d'une tendance. Au plus la MACD-line est éloignée de la baseline, au plus la tendance (croissante ou décroissante) sera susceptible d'être forte. Une dernière utilité est également de déterminer si un marché est suracheté (les prix seront susceptibles de croître rapidement) ou survendu (les prix seront susceptibles de décroître rapidement). Ceci peut être observé par la pente que prend la MACD-line (la dérivée en fait, mais comme ce sont des données discrètes, il est malvenu de parler de dérivée). Si la pente est fort positive, le marché sera suracheté et si elle est fort négative, le marché sera survendu."
      ]
    },
    {
      "cell_type": "code",
      "metadata": {
        "id": "80-jYL9hg8IX"
      },
      "source": [
        "# MACD Indicators :\n",
        "\n",
        "def MACD_indicator(df, time_periods = [9, 12, 26]):\n",
        "  time_periods.sort()\n",
        "\n",
        "  # Error handling :\n",
        "  if len(time_periods) > 3 :\n",
        "    new_time_periods = time_period[:2]\n",
        "    time_periods = copy(new_time_periods)\n",
        "    del new_time_periods\n",
        "    print(\"\"\"You entered too many EMA's, the program only used : {periods}\"\"\".format(periods = time_periods))\n",
        "  elif len(time_periods) < 3 :\n",
        "    time_periods = [9,12,26]\n",
        "    print(\"\"\"You didn't entered enough EMA's, the program used standard periods : {period} \"\"\".format(periods = time_periods))\n",
        "\n",
        "  error = False\n",
        "  emas_to_compute = []\n",
        "  for ema in time_periods :\n",
        "    try :\n",
        "      test = df[\"Ema_{}\".format(ema)]\n",
        "      del test\n",
        "    except KeyError :\n",
        "      error = True\n",
        "      emas_to_compute.append(ema)\n",
        " \n",
        "  if error :\n",
        "    EMA_indicator(emas_to_compute, df)\n",
        "\n",
        "  signal,m,l = time_periods\n",
        "  # On sait que la signal line est déjà calculée, c'est une EMA\n",
        "  mid = df[\"Ema_{}\".format(m)]\n",
        "  lon = df[\"Ema_{}\".format(l)]\n",
        "\n",
        "  # MACD si considérée en courbe\n",
        "  df[\"MACD\"] = mid - lon\n",
        "  df[\"Signal-line\"] = round(df[\"MACD\"].ewm(span = signal, adjust = False).mean(),2)\n",
        "\n",
        "# Executing with standard values\n",
        "time_periods = [9,12,26]\n",
        "MACD_indicator(df, time_periods)\n",
        "\n",
        "# Plotting lines :\n",
        "df[\"MACD\"].plot(label = \"MACD\")\n",
        "df[\"Signal-line\"].plot(label = \"Signal-line\")\n",
        "close.plot(label = \"Close\")\n",
        "plt.axhline(y=0)\n",
        "\n",
        "# Plotting entry and exit points :\n",
        "entry_points = crossunder_points(df[\"Signal-line\"], df[\"MACD\"])\n",
        "exit_points = crossover_points(df[\"Signal-line\"], df[\"MACD\"])\n",
        "plt.scatter(entry_points, df[\"MACD\"][entry_points], label = \"Buy-signal\")\n",
        "plt.scatter(exit_points, df[\"MACD\"][exit_points], label = \"Sell-signal\")\n",
        "plt.legend()"
      ],
      "execution_count": null,
      "outputs": []
    },
    {
      "cell_type": "markdown",
      "metadata": {
        "id": "EczJbJH7SuXX"
      },
      "source": [
        "## 2.4. Standard Deviation indicator :\n",
        "\n",
        "### 2.4.1. What is it ? :\n",
        "Comme son nom l'indique, l'indicateur STD est en fait l'écart-type des données d'une période de n intervalles. Si l'on fait toujours l'hypothèse que les données suivent une distribution normale (comme au point 2.1.1.), cet indicateur nous permet de déterminer l'écart type \"mobile\" d'une période de n intervalles en calculant l'écart type de $n - \\alpha + 1$ sous-périodes contenant $\\alpha$ intervalles\n",
        "\n",
        "### 2.4.2. Computation of the STD indicator :\n",
        "Le calcul de l'indicateur STD avec $\\alpha$ intervalle se fait par itérations. On calcule tout d'abord l'écart-type des données de la premières sous-période, sois les $\\alpha$ premières valeurs (allant de $Prix_0$ à $Prix_{\\alpha}$) disons $\\sigma_1$. Ensuite on se décale d'une donnée (on va maintenant de  $Prix_1$ à $Prix_{\\alpha + 1}$) et on calcule l'écart-type de cette sous-période $\\sigma_2$ et l'on recommence jusqu'à épuisement des données. On se retrouve alors avec $n-\\alpha$ écart-types, en effet on peut facilement déduire que pour les $\\alpha-1$ premières données, il sera impossible d'obtenir un écart type comprenant $\\alpha$ données. \n",
        "\n",
        "La formule mathématique ressemble à ceci :\n",
        "$$\\sigma_i = \\sqrt{\\frac{\\sum_{j = i-\\alpha}^{i} (Prix_i - SMA^{\\alpha}_i)^2}{\\alpha}}$$\n",
        "### 2.4.3. What it's used for ? :\n",
        "Cet indicateur sert principalement à déterminer la volatilité du marché par rapport aux dernières valeurs. Ceci permet en fait de déterminer une plage de prix sur laquelle la marché est susceptible de se diriger. Par exemple, si l'on suit une distribution normale et que nous nous trouvons au temps i, il y'a 68% de chances que le prochain prix soit comprit dans une plage d'un écart-type. Soit $P(Prix_i - \\sigma_i \\leq Prix_{i+1} \\leq Prix_i + \\sigma_i) = 0.68$ où P(...) représente la probabilité qu'un événement se produise. Il y'a également 95% de chances que ce prix soit compris dans une plage de deux écarts-types, et 99.7% de chances qu'il soit compris dans une plage de 3 écarts types."
      ]
    },
    {
      "cell_type": "code",
      "metadata": {
        "id": "bfWi_jK9yyvK"
      },
      "source": [
        "# Standard deviation indicator (Mainly used in Bollinger's Band):\n",
        "\n",
        "def STD_indicator(df, window = 20):\n",
        "  close = df[\"Last\"]\n",
        "  df[\"STD_{}\".format(window)] = close.rolling(window).std()\n",
        "\n",
        "# Plotting :\n",
        "STD_indicator(df)\n",
        "df[\"STD_20\"].plot(label = \"STD_20\")\n",
        "close.plot(label = \"Close\")\n",
        "plt.legend()"
      ],
      "execution_count": null,
      "outputs": []
    },
    {
      "cell_type": "markdown",
      "metadata": {
        "id": "-LmxGTGGcq7R"
      },
      "source": [
        "## 2.5. Bollinger's Bands indicator :\n",
        "\n",
        "### 2.5.1. What is it ? :\n",
        "Les bandes de Bollinger sont en fait une utilisation plus représentative de l'écart-type calculé ci-dessus. Elles consistent à représenter visuellement les plages de prix possibles. Elle sont généralement utilisées avec une distance de 2 écarts-types ( pour avoir une probabilité de 95% ).\n",
        "\n",
        "### 2.5.2. Computation of Bollinger's Bands :\n",
        "La première étape est de déterminer le nombre d'intervalle que l'on souhaite utiliser n. Une fois que l'on a déterminé cet intervalle, on peut calculer la moyenne mobile simple (SMA) sur la période avec ce nombre d'intervalles. On calcule ensuite l'écart-type (STD) avec le même intervalle et on obtient les bandes de Bollinger comme suit :\n",
        "* $UpperBand_i = SMA^n_i + 2*STD^n_i$\n",
        "* $MiddleBand_i = SMA^n_i$\n",
        "* $LowerBand_i = SMA^n_i - 2*STD^n_i$\n",
        "\n",
        "### 2.5.3. What it's used fort ? :\n",
        "Les bandes de Bollinger ont exactement la même utilité que l'indicateur STD. "
      ]
    },
    {
      "cell_type": "code",
      "metadata": {
        "id": "0QHe_3n6g_vu"
      },
      "source": [
        "# Bollinger band indicator :\n",
        "\n",
        "def Bollinger_band(df, window = 20, mu = 2):\n",
        "  try :\n",
        "    ma = df[\"Sma_{}\".format(window)]\n",
        "  except KeyError:\n",
        "    SMA_indicator([window], df)\n",
        "  finally :\n",
        "    ma = df[\"Sma_{}\".format(window)]\n",
        "\n",
        "  STD_indicator(df, window)\n",
        "  st_dev = df[\"STD_{}\".format(window)]\n",
        "  df[\"Boll_up\"] = ma + mu*st_dev\n",
        "  df[\"Boll_down\"] = ma - mu*st_dev\n",
        "\n",
        "# Plotting\n",
        "Bollinger_band(df)\n",
        "df[\"Boll_up\"].plot(label = \"Boll_up\")\n",
        "df[\"Boll_down\"].plot(label = \"Boll_down\")\n",
        "df[\"Sma_20\"].plot(label = \"Sma_20\")\n",
        "close.plot(label = \"Close\")\n",
        "plt.legend()"
      ],
      "execution_count": null,
      "outputs": []
    },
    {
      "cell_type": "markdown",
      "metadata": {
        "id": "BNzC-K-MSy_9"
      },
      "source": [
        "## 2.6 : Stochastic indicator :\n",
        "\n",
        "### 2.6.1. What is it ? :\n",
        "Le stochastique est un indicateur comparant le prix actuel avec les prix antérieurs, il permet de déterminer un retournement de tendance. Cet indicateur est composé de deux courbes, que l'on appelera %k, le stochastique rapide et %D, le stochastique lent. L'indicateur stochastique est un indicateur extrêmement réactif, il faut donc faire attention à la manière de l'utiliser, car il pourrait donner des faux-positif.\n",
        "\n",
        "Le stochastique rapide est en fait dérivé des plus hauts prix atteints sur un intervalle et des plus bas également atteint. Celui-ci n'intégrant aucunes moyenne, il est nécéssaire de le \"filtrer\" à l'aide d'une seconde courbe, le stochastique lent, qui est la moyenne mobile simple du stochastique rapide (généralement sur 3 intervalles).\n",
        "### 2.6.2. Computation of the Stochastic :\n",
        "Le stochastique rapide se calcule comme suit :\n",
        "$$ \\%k_i = 100 * \\frac{Prix_i - PrixMin^n_i}{PrixMax^n_i - PrixMin^n_i} $$ Où $PrixMin^n_i$ représente le prix minimum des n intervalles précédant l'intervalle i, et respectivement $PrixMax^n_i$ représente le maximum. Cet indicateur se calcule en pourcentage.\n",
        "\n",
        "Le stochastique lent est quant à lui la SMA sur n intervalle du stochastique rapide.\n",
        "### 2.6.3. What it's used for ? :\n",
        "Le stochastique est utilisé pour déterminer un changement de tendance à court terme. Lorsque le stochastique se situe au dessus de 80%, on dira que le marché est suracheté et donc dominé par une tendance haussière. Respectivement quand il se situe en dessous de 20%, le marché est dit survendu et la tendence sera baissière. Le stochastique peut rester plusieurs jours dans une zone extrême, confirmant une certaine inertie dans les cours. \n",
        "\n",
        "Signaux donnés :\n",
        "* D'achat si : \n",
        "1. le stochastique rapide passe au dessus du stochastique lent tout en sortant de la zone des 20%.\n",
        "2. Le stochastique rapide passe au dessus de la barre des 50%.\n",
        "\n",
        "* De vente si :\n",
        "1. Le stocahstique rapide passe en dessous du stochastique lent tout en sortant de la zone des 80%. \n",
        "2. Le stochastique rapide passe en dessous de la barre des 50%.\n",
        "\n",
        "Il faut néanmoins toujours faire attention aux faux-positifs, qui interviendront lors de l'utilisation avec des petites périodes."
      ]
    },
    {
      "cell_type": "code",
      "metadata": {
        "id": "QxRqY72R-cdK"
      },
      "source": [
        "# Stochastic indicators :\n",
        "\n",
        "\n",
        "def Stochastic_indicator(df, window = 14):\n",
        "  # Taking high and low values\n",
        "  high = df[\"High\"] ; low = df[\"Low\"]\n",
        "  close = df[\"Last\"]\n",
        "\n",
        "  # Taking highs and lows in a 14 days window\n",
        "  High = high.rolling(window).max()\n",
        "  Low = low.rolling(window).min()\n",
        "\n",
        "  # Computing the indicator\n",
        "  df[\"Stoch_k\"]= 100 * ( (close - Low)/(High - Low) )\n",
        "  df[\"Stoch_D\"]= df[\"Stoch_k\"].rolling(window).mean()\n",
        "\n",
        "# Plotting\n",
        "Stochastic_indicator(df)\n",
        "df[\"Stoch_k\"].plot(label = \"Stochastique rapide\")\n",
        "df[\"Stoch_D\"].plot(label = \"Stochastique lent\")\n",
        "close.plot(label = \"Close\")\n",
        "\n",
        "plt.legend()"
      ],
      "execution_count": null,
      "outputs": []
    },
    {
      "cell_type": "markdown",
      "metadata": {
        "id": "vWeJbX3QVnir"
      },
      "source": [
        "## 2.7. Relative Strength Index indicator (RSI) :\n",
        "\n",
        "### 2.7.1. What is it ? :\n",
        "Le RSI est un indicateur permettant de déterminer la \"Force\" d'une tendance, de la même manière que le stochastique présenté précédemment. La différence entre le RSI et le stochastique est la réactivité. Le stochastique n'intégrant pas de moyenne celui-ci est très réactif aux variations des cours, le RSI quant à lui intègre une EMA, ce qui lui permet de rester réactif aux nouveaux changements tout en gardant une certaine résistance à la volatilité.\n",
        "\n",
        "### 2.7.2. Computation of the RSI :\n",
        "Avant tout il faut calculer le vecteur des variations sur la période étudiée. De ce vecteur nous allons déterminer le vecteur des hausses (up) qui aura la même taille que le vecteur des variations mais ne comptera que les valeurs positives de ce dernier et le vecteur des baisses (down), qui aura la même taille que le vecteur des variations mais qui ne compteras que les valeurs absolues des entrées négatives de ce dernier.\n",
        "$$ Var_i = Prix_i - Prix_{i-1} \\\\ Up_i = Var_i \\text{ if } Var_i > 0 \\text{ else } = 0 \\\\ Down_i = |Var_i| \\text{ if } Var_i < 0 \\text{ else } = 0$$\n",
        "Exemple : $$Var = [-1,0.5,0.2,-0.6] \\\\ Up = [0, 0.5, 0.2,0] \\\\ Down = [1, 0, 0, 0.6]$$\n",
        "\n",
        "La seconde étape est de calculer les EMA des vecteurs Up et Down, que l'on nommera ici AvgUp et AvgDown. Une fois cela fait il ne reste plus qu'à appliquer ce calcul :\n",
        "$$ RSI = 100*\\frac{AvgUp}{AvgUp + AvgDown} $$\n",
        "\n",
        "### 2.7.3. What it's used for ? :\n",
        "Le RSI est utilisé comme le stochastique, il sert à déterminer un changement de tendance. Lorsque le RSI est aux alentours de 70 et plus, le marché est sujet à une correction baissière. Et lorsqu'il se trouve aux alentours de 30 et moins, le marché sera sujet à une correction haussière. Il peut être très intéressant de prendre en compte la convergence/divergence d'indicateurs RSI sur plusieurs périodes (comme le MACD) \n",
        "\n",
        "\n",
        "\n"
      ]
    },
    {
      "cell_type": "code",
      "metadata": {
        "id": "kkRVQPAQFCFP"
      },
      "source": [
        "# RSI indicators\n",
        "\n",
        "def RSI_indicator(df, windows = [5,7,9,11,13,15]):\n",
        "  # Computing the net change in regard of the precedent value\n",
        "  close = df[\"Last\"]\n",
        "  change = close.diff()\n",
        "\n",
        "  # Isolating Upward moves and Downward moves\n",
        "  Up = np.maximum(change, np.zeros(len(change)))\n",
        "  Down = abs(np.minimum(change, np.zeros(len(change))))\n",
        "  # Creating an intermediary Dataframe for Computation\n",
        "  RSI = pd.DataFrame({\"Up\": Up, \"Down\":Down})\n",
        "\n",
        "  # Starting Computation of the RSI\n",
        "  for window in windows :\n",
        "    column_name = \"RSI_{}\".format(window)\n",
        "    AvgUp = RSI[\"Up\"].ewm(alpha = 1/window, adjust = False).mean()\n",
        "    AvgDown = RSI[\"Down\"].ewm(alpha = 1/window, adjust = False).mean()\n",
        "    RSI[column_name] = 100*( AvgUp / (AvgUp + AvgDown))\n",
        "\n",
        "  # Taking the mean of all the windown computed \n",
        "  # and deleting the intermediary DataFrame\n",
        "  df[\"RSI\"] = RSI.iloc[5:,2:].mean(axis = 1)\n",
        "  del RSI\n",
        "\n",
        "# Plotting\n",
        "RSI_indicator(df)\n",
        "df[\"RSI\"].plot(legend = \"RSI\")\n",
        "close.plot(legend = \"Close\")\n",
        "plt.legend()"
      ],
      "execution_count": null,
      "outputs": []
    },
    {
      "cell_type": "markdown",
      "metadata": {
        "id": "Ix3YOpBwnrrT"
      },
      "source": [
        "# 3. Design of the regression algorithm :\n",
        "Maintenant que nous avons calculé une suite d'indicateurs et construit le training set, nous pouvons enfin écrire l'algorithme qui tentera de trouver des dépendances entre les variables. Ce que nous allons faire est un algorithme de régression linéaire, qui suis le même principe qu'une régression linéaire en statistique, la différence étant que nous n'allons pas nous limiter à une seule dimension. Le but de l'algorithme sera de *prédire* une valeur prochaine, sur base des valeurs précédentes. Mathématiquement, cela revient à minimiser une fonction, que nous appelerons fonction de coût et qui sera définie comme suit :\n",
        "$$ L(y, \\hat{y}) = \\frac{1}{2}(y - \\hat{y})^2 $$ \n",
        "Où $y$ est la valeur effective (celle qui s'est produite) et $\\hat{y}$ est la valeur prédite par l'algorithme. $\\hat{y}$ sera quant à lui défini comme une somme pondérée des variables données, dans notre cas ces variables représenteront les prix historiques et les valeurs des indicateurs. $$ \\hat{y} = w_0*x_0 + w_1*x_1 + ... + w_n*x_n + b$$\n",
        "que l'on peut traduire vectoriellement par :\n",
        "$$ \\hat{y} = \\mathbf{w^Tx} + b $$\n",
        "Lorsque l'on place toute nos prédictions l'une à la suite de l'autre de cette manière :\n",
        "$$ \\hat{y_0} = w_0*x_0^0 + w_1*x_1^0 + ... + w_n*x_n^0 + b \\\\ \\hat{y_1} = w_0*x_0^1 + w_1*x_1^1 + ... + w_n*x_n^1 + b \\\\ ...$$\n",
        "Nous pouvons transformer le système linéaire en une équation matricielle :\n",
        "$$ \\mathbf{\\hat{y}} = \\mathbf{Xw} + b $$\n",
        "Avec $\\mathbf{\\hat{y}}$ le vecteur de nos prédictions.\n",
        "\n",
        "Nous allons définir tout cela grâce à Tensorflow.\n"
      ]
    },
    {
      "cell_type": "code",
      "metadata": {
        "id": "DrqtsC0JJAN8"
      },
      "source": [
        "days_forecasting = 2 # Number of days we want to predict.\n",
        "memory_length = 10 # Number of days we want to forecast price\n",
        "\n",
        "values = df[\"Last\"] # Taking close values as example\n",
        "\n",
        "features = np.array([[values[i+j] for i in range(len(values)-days_forecasting - memory_length, len(values)-days_forecasting)] for j in range(days_forecasting)])\n",
        "labels = np.array(values[-days_forecasting:])"
      ],
      "execution_count": null,
      "outputs": []
    },
    {
      "cell_type": "code",
      "metadata": {
        "id": "g7SJZRx-BEGh"
      },
      "source": [
        "# Construct a way to read data. code snippet taken from the book d2a (Dive into DeepLearning)\n",
        "def load_array(data_arrays, batch_size, is_train=True):\n",
        "  \"\"\"Construct a TensorFlow data iterator.\"\"\"\n",
        "  dataset = tf.data.Dataset.from_tensor_slices(data_arrays)\n",
        "  if is_train:\n",
        "      dataset = dataset.shuffle(buffer_size=1000)\n",
        "  dataset = dataset.batch(batch_size)\n",
        "  return dataset\n",
        "\n",
        "batch_size = 10\n",
        "data_iter = load_array((features, labels), batch_size)\n",
        "\n",
        "# Initialisation of the coeffictions following a gaussian distribution.\n",
        "coeffs = tf.initializers.RandomNormal(stddev=0.01)\n",
        "\n",
        "# Defining the model, this model will contain only one layer, as described before.\n",
        "# We do not really need to build a model for a case this simple, but it will be very useful when things get more complex.\n",
        "neural_net = tf.keras.Sequential()\n",
        "neural_net.add(tf.keras.layers.Dense(1, kernel_initializer = coeffs)) # \"Dense\" is a fully connected layer, as described by the matrix-vector operation above\n",
        "\n",
        "# Loss Function\n",
        "loss = tf.keras.losses.MeanSquaredError()\n",
        "\n",
        "# Training algorithm, this algorithm uses Stochastic Gradient Descent.\n",
        "trainer = tf.keras.optimizers.SGD(learning_rate=0.0001)"
      ],
      "execution_count": null,
      "outputs": []
    },
    {
      "cell_type": "markdown",
      "metadata": {
        "id": "zqqPt4TTmR4L"
      },
      "source": [
        "# 4. Construction of the training set :\n",
        "Nous savons que pour entraîner le modèle de l'algorithme de régression que nous allons créer ensuite, il nous faut des \"exemples\". Les exemples sont en fait une suite de données réelles, accompagnée de la valeur que l'algorithme *est censé* prédire. La manière dont ceci fonctionne est assez intuitive :\n",
        "\n",
        "Imaginez-vous en train d'essayer d'entrainer votre chien à faire une roulade par exemple. Vous lui montrez comment il doit s'y prendre pour faire la roulade et ensuite il essaye lui même. Suivant sa performance vous lui donnez un nombre de friandises/câlin. Lorsqu'il se rend compte qu'en faisant correctement la roulade, il reçoit beaucoup de friandise, il essayera de recommencer correctement.\n",
        "\n",
        "Dans cet analogie, le chien représente l'algorithme, la roulade représente la prédiction et les friandises/câlins les modifications apportées aux modèles. Vous montrez à l'algorithme ce qu'il doit atteindre en lui montrant la valeur réelle de ce qu'il doit prédire, il essaye, si il y arrive il ne se corrige que très peu et si il n'y arrive pas, il se corrige beaucoup.\n",
        "\n",
        "Pour arriver à accomplir cette tâche, il nous faut créer ce training set et le \"labeller\" c'est à dire calculer les valeurs que le modèle est censé rendre.\n",
        "\n",
        "Dans le cas de ce notebook, nous avons déjà créé ce dataset (nous avons un dataframe avec toutes les valeurs des prix et des indicateurs déjà stocké) il ne nous reste alors plus qu'à choisir quels indicateurs insérer dans l'algorithme de régression et les agencer de manière matricielle pour que les calculs soit plus aisés (à l'aide de numpy). La matrice sera de ce type, si l'on choisi seulement le prix comme variable :\n",
        "\n",
        "$$\\begin{pmatrix} P_1 & P_2 & P_3 & ... & P_{n} \\\\ P_2 & P_3 & ... & ... & P_{n+ 1} \\\\ && \\vdots& \\\\ P_n & ... & ... & ... & P_{2n}\\end{pmatrix} * \\begin{pmatrix} a_1 \\\\ a_2 \\\\ ... \\\\ a_n \\end{pmatrix} = \\begin{pmatrix} P_{2n} \\\\ P_{2n + 1} \\\\ ... \\\\ P_{3n} \\end{pmatrix} $$\n",
        "\n",
        "Dans ce cas de figure, nous possédons 2n valeurs et essayons de prédire la valeurs n périodes de temps plus tard."
      ]
    },
    {
      "cell_type": "code",
      "metadata": {
        "id": "s6vNqdsipang"
      },
      "source": [
        "num_epochs = 10\n",
        "for epoch in range(num_epochs):\n",
        "  for X, y in data_iter:\n",
        "    with tf.GradientTape() as tape:\n",
        "        l = loss(neural_net(X, training=True), y)\n",
        "    grads = tape.gradient(l, neural_net.trainable_variables)\n",
        "    trainer.apply_gradients(zip(grads, neural_net.trainable_variables))\n",
        "  l = loss(neural_net(features), labels)\n",
        "  print(f'epoch {epoch + 1}, loss {l:f}')"
      ],
      "execution_count": null,
      "outputs": []
    },
    {
      "cell_type": "markdown",
      "metadata": {
        "id": "ZeiE-zEj5J5j"
      },
      "source": [
        "# 5. Tests :\n",
        "\n",
        "Il est maintenant le temps de tester les résultats que produisent cette régression. Il est à noter que dans le cas de ce notebook, nous n'avons mis en place qu'un simple algorithme de régression linéaire sur les prix de clôtures, les résultats ne seronts donc probablement pas concluant. Mais il vous est totalement possible d'utiliser l'algorithme sur les indicateurs définis précédemment, il vaus suffit simplement de changer la colonne du dataframe utilisée."
      ]
    },
    {
      "cell_type": "code",
      "metadata": {
        "id": "3pG6LGS86Yya"
      },
      "source": [
        "# Test on another Ticker\n",
        "values = dic['EURONEXT/PROX'][\"Last\"]\n",
        "plt.plot(values)\n",
        "plt.show()"
      ],
      "execution_count": null,
      "outputs": []
    },
    {
      "cell_type": "markdown",
      "metadata": {
        "id": "QwquygXrRjE1"
      },
      "source": [
        "## 5.1 First analysis :\n",
        "\n",
        "Premièrement, on fait une prédiction avec l'algorithme et on plot cela sur un diagramme (Valeurs réelles, Prédictions) avec une droite x = y sur le diagramme.\n",
        "Au plus les points sur le diagramme sont proche de la droite et au plus les prédictions seront correctes. Si les points se trouve au dessus de la droite, cela signifie que l'algorithme a sous évalué les prix futurs et si au contraires ils se trouvent en dessus l'algorithme à surévalué les prix.\n",
        "\n",
        "On peut observer, comme il était prévu, que ces prédictions sont loin d'être précises. Pour augmenter ces précisions, plusieurs possibilités s'ouvrent à nous.\n",
        "\n",
        "1. Entrainer un réseau de neurones par \"configuration de marché\" par là j'entend utiliser un réseaux de neurones différents pour les marchés haussiers, baissiers, à hautes volatilités, etc.\n",
        "2. Entrainer un réseau de neurones par Secteur.\n",
        "3. Entrainer le réseau de neurones sur différents indicateurs (ce qui sera possible dans le code source, mais ce notebook se veut explicatif, voire introductif par moment).\n",
        "4. Varier les périodes de temps utilisées.\n",
        "5. Effectuer des combinaisons des solutions plus haut."
      ]
    },
    {
      "cell_type": "code",
      "metadata": {
        "id": "nyaRNEVLMX99"
      },
      "source": [
        "make_predictions = 30\n",
        "\n",
        "features = np.array([[values[i+j] for i in range(len(values)-days_forecasting - memory_length - make_predictions, len(values)-days_forecasting - make_predictions)] \n",
        "                     for j in range(days_forecasting + make_predictions)])\n",
        "labels = values[-days_forecasting-make_predictions:]\n",
        "\n",
        "\n",
        "predictions = neural_net(features)\n",
        "plt.scatter(predictions, labels)\n",
        "\n",
        "# Plotting \n",
        "plt.plot(labels, labels)\n",
        "plt.xlabel(\"Predictions\")\n",
        "plt.ylabel(\"Values\")\n",
        "plt.show()\n",
        "print(loss(predictions, labels))\n",
        "predictions\n",
        "predictions = tf.reshape(predictions, 32).numpy()"
      ],
      "execution_count": null,
      "outputs": []
    },
    {
      "cell_type": "markdown",
      "metadata": {
        "id": "jFhY9J4KVa3F"
      },
      "source": [
        "## 5.2 Trend analysis :\n",
        "\n",
        "Nous avons vu plus haut qu'avec les paramètres utilisés, les résultats étaient imprécis en termes de valeurs, maintenant nous allons voir si l'algorithme permet tout de même d'identifier des tendances.\n",
        "\n",
        "Le graphe suivant montre les différences de valeurs entre deux jours consécutifs. Lorsque la différence réelle est du même signe que la différence prédite, l'algorithme à prédit correctement la tendence.\n",
        "\n",
        "On peut observer ici un résultat de 56.25%, ce qui est relativement correct."
      ]
    },
    {
      "cell_type": "code",
      "metadata": {
        "id": "X9gJKBQZYoj3"
      },
      "source": [
        "predictions = pd.Series(predictions).diff()\n",
        "labels = labels.diff()"
      ],
      "execution_count": null,
      "outputs": []
    },
    {
      "cell_type": "code",
      "metadata": {
        "id": "p06xdZqcV47z"
      },
      "source": [
        "def count(predictions, labels):\n",
        "  counter = 0\n",
        "  for i in range(len(labels)):\n",
        "    if (predictions[i] > 0 and labels[i] > 0) or (predictions[i] < 0 and labels[i] < 0):\n",
        "      counter += 1\n",
        "  return f'percentage of correctness at predicting tendency : {counter/len(labels)}'\n",
        "plt.scatter(labels.index, labels, color = \"red\")\n",
        "plt.scatter(labels.index, predictions, color = \"green\")\n",
        "count(predictions, labels)"
      ],
      "execution_count": null,
      "outputs": []
    }
  ]
}